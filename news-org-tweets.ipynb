{
 "cells": [
  {
   "cell_type": "markdown",
   "metadata": {},
   "source": [
    "Things to do: sentiment analysis of most recent 100 tweets of various news orgs\n",
    "\n",
    "Initialize lots of empty lists\n",
    "\n",
    "(build a function?)\n",
    "\n",
    "* For one news org:\n",
    "* Pull 100 last tweets (or pull 1 at a time, 100 times?)\n",
    "** See 1-Solved-StuGetRelief for looping through 100\n",
    "* Run each through Vader\n",
    "* Collect: text, date, compound, pos, neg, neut; add to respective lists\n",
    "* Average compounds for each news org; add to compound average list\n",
    "* Clear lists\n",
    "\n",
    "\n",
    "DF of lists\n",
    "\n",
    "PLOT 1\n",
    "* Actually 5 plots\n",
    "* ?? How to number Tweets Ago? Need a column for this? Or use Pandas index?)*\n",
    "* Plot compounds\n",
    "\n",
    "\n",
    "PLOT 2\n",
    "* Zip News org keys with compound average list into dict\n",
    "* Create DF\n",
    "\n",
    "* Build data frame of lists\n",
    "\n",
    "\n",
    "Export to CSV, Save plots as PNG\n"
   ]
  },
  {
   "cell_type": "code",
   "execution_count": 5,
   "metadata": {
    "collapsed": true
   },
   "outputs": [],
   "source": [
    "# Import Dependencies\n",
    "\n",
    "import tweepy\n",
    "import numpy as np\n",
    "import pandas as pd\n",
    "from datetime import datetime\n",
    "import matplotlib.pyplot as plt\n",
    "\n",
    "# Import and Initialize Sentiment Analyzer\n",
    "from vaderSentiment.vaderSentiment import SentimentIntensityAnalyzer\n",
    "analyzer = SentimentIntensityAnalyzer()\n",
    "\n",
    "# Twitter API Keys\n",
    "from config import (consumer_key, \n",
    "                    consumer_secret, \n",
    "                    access_token, \n",
    "                    access_token_secret)\n",
    "\n",
    "# Setup Tweepy API Authentication\n",
    "auth = tweepy.OAuthHandler(consumer_key, consumer_secret)\n",
    "auth.set_access_token(access_token, access_token_secret)\n",
    "api = tweepy.API(auth, parser=tweepy.parsers.JSONParser())"
   ]
  },
  {
   "cell_type": "code",
   "execution_count": 6,
   "metadata": {},
   "outputs": [],
   "source": [
    "# # Target User Account\n",
    "# target_user = \"@CNN\"\n",
    "\n",
    "# # Counter\n",
    "# counter = 1\n",
    "\n",
    "# # # Loop through 5 pages of tweets (total 100 tweets)\n",
    "# # for x in range(5):\n",
    "\n",
    "# #     # Get all tweets from home feed\n",
    "# public_tweets = api.user_timeline(target_user, count=100)\n",
    "\n",
    "# # Loop through all tweets\n",
    "# for tweet in public_tweets:\n",
    "\n",
    "#     # Print Tweets\n",
    "#     print(f'Tweet {counter}: {tweet[\"text\"]}')\n",
    "\n",
    "#     # Add to Counter\n",
    "#     counter = counter + 1"
   ]
  },
  {
   "cell_type": "code",
   "execution_count": 14,
   "metadata": {},
   "outputs": [],
   "source": [
    "# Target User Accounts\n",
    "target_users = (\"@BBC\", \"@CBS\", \"@CNN\", \"@FoxNews\", \"@NYT\")\n",
    "\n",
    "# Variable for holding sentiments\n",
    "sentiments = []\n",
    "\n",
    "#Variables for holding average Vader compound scores\n",
    "\n",
    "# Loop through all target users\n",
    "for target in target_users:\n",
    "\n",
    "    # Variable for holding the oldest tweet\n",
    "    #oldest_tweet = None\n",
    "    counter = 0\n",
    "    \n",
    "    # Variables for holding sentiments\n",
    "    compound_list = []\n",
    "    positive_list = []\n",
    "    negative_list = []\n",
    "    neutral_list = []\n",
    "\n",
    "#     # Loop through 5 pages of tweets (total 100 tweets)\n",
    "#     for x in range(5):\n",
    "\n",
    "    # Get all tweets from home feed\n",
    "    public_tweets = api.user_timeline(target, count=100)\n",
    "\n",
    "    # Loop through all tweets \n",
    "    for tweet in public_tweets:\n",
    "\n",
    "        # Print Tweets\n",
    "        #print(\"Tweet %s: %s\" % (counter, tweet[\"text\"]))\n",
    "\n",
    "        # Run Vader Analysis on each tweet\n",
    "        results = analyzer.polarity_scores(tweet[\"text\"])\n",
    "        compound = results[\"compound\"]\n",
    "        pos = results[\"pos\"]\n",
    "        neu = results[\"neu\"]\n",
    "        neg = results[\"neg\"]\n",
    "        tweets_ago = counter\n",
    "\n",
    "        # Add sentiments for each tweet into an array\n",
    "        sentiments.append({\"Tweet\": tweet[\"text\"],\n",
    "                           \"News Org\": target,\n",
    "                           \"Tweets Ago\": counter,\n",
    "                        \"Date\": tweet[\"created_at\"], \n",
    "                       \"Compound\": compound,\n",
    "                       \"Positive\": pos,\n",
    "                       \"Negative\": neu,\n",
    "                       \"Neutral\": neg})\n",
    "\n",
    "        # Add to counter \n",
    "        counter = counter + 1\n",
    "\n",
    "    #x+=1"
   ]
  },
  {
   "cell_type": "code",
   "execution_count": 15,
   "metadata": {},
   "outputs": [],
   "source": [
    "# Convert sentiments to DataFrame\n",
    "sentiments_pd = pd.DataFrame.from_dict(sentiments)\n",
    "\n",
    "# Configure dataframe column order and display\n",
    "sentiments_pd = sentiments_pd[['News Org',\n",
    "                        'Tweets Ago',\n",
    "                         'Date',\n",
    "                         'Tweet',\n",
    "                         'Compound',\n",
    "                         'Positive',\n",
    "                         'Neutral',\n",
    "                         'Negative']]"
   ]
  },
  {
   "cell_type": "code",
   "execution_count": 16,
   "metadata": {},
   "outputs": [],
   "source": [
    "# Save DataFrame as a csv\n",
    "\n",
    "#sentiments_pd.to_csv(\"news_twitter_sentiments.csv\", encoding=\"utf-8\", index=False)"
   ]
  },
  {
   "cell_type": "code",
   "execution_count": 17,
   "metadata": {
    "collapsed": true
   },
   "outputs": [],
   "source": [
    "# james = sentiments_pd.groupby([\"News Org\"]).get_group(\"@CNN\")[\"Tweets Ago\"]\n",
    "# #print(james)\n",
    "# # james = list(james)\n",
    "# #james.reverse()\n",
    "\n",
    "# james.iloc[::-1]\n",
    "# #print(james)"
   ]
  },
  {
   "cell_type": "code",
   "execution_count": 39,
   "metadata": {},
   "outputs": [
    {
     "data": {
      "image/png": "[encoded data removed]",
      "text/plain": [
       "<matplotlib.figure.Figure at 0x114307908>"
      ]
     },
     "metadata": {},
     "output_type": "display_data"
    }
   ],
   "source": [
    "# Create overlaid scatterplots news organizations' compound scores\n",
    "# bbc = , cbs = teal, cnn = tomato or orangered, fox = blue, nyt = gold\n",
    "\n",
    "# cnn = plt.scatter(sentiments_pd.groupby([\"News Org\"]).get_group(\"@CNN\")[\"Tweets Ago\"],\n",
    "#                 sentiments_pd.groupby([\"News Org\"]).get_group(\"@CNN\")[\"Compound\"],\n",
    "#                   facecolors='red', edgecolors='black', label=\"CNN\")\n",
    "#target_users = (\"@BBC\", \"@CBS\", \"@CNN\", \"@FoxNews\", \"@NYT\")\n",
    "\n",
    "\n",
    "# use zip funtion to zip to lists... for org,color...enumerate keeps track of position in list.\n",
    "\n",
    "orgs_colors_dict = {'@BBC':'lightblue',\n",
    "                   '@CBS': 'teal',\n",
    "                   '@CNN': 'red',\n",
    "                   '@FoxNews': 'blue',\n",
    "                   '@NYT': 'gold'}\n",
    "\n",
    "plt.scatter(sentiments_pd.groupby([\"News Org\"]).get_group(\"@BBC\")[\"Tweets Ago\"],\n",
    "                sentiments_pd.groupby([\"News Org\"]).get_group(\"@BBC\")[\"Compound\"],\n",
    "                  facecolors=orgs_colors_dict['@BBC'], edgecolors='black', label=\"BBC\")\n",
    "plt.scatter(sentiments_pd.groupby([\"News Org\"]).get_group(\"@CBS\")[\"Tweets Ago\"],\n",
    "                sentiments_pd.groupby([\"News Org\"]).get_group(\"@CBS\")[\"Compound\"],\n",
    "                  facecolors=orgs_colors_dict['@CBS'], edgecolors='black', label=\"CBS\")\n",
    "plt.scatter(sentiments_pd.groupby([\"News Org\"]).get_group(\"@CNN\")[\"Tweets Ago\"],\n",
    "                sentiments_pd.groupby([\"News Org\"]).get_group(\"@CNN\")[\"Compound\"],\n",
    "                  facecolors=orgs_colors_dict['@CNN'], edgecolors='black', label=\"CNN\")\n",
    "plt.scatter(sentiments_pd.groupby([\"News Org\"]).get_group(\"@FoxNews\")[\"Tweets Ago\"],\n",
    "                sentiments_pd.groupby([\"News Org\"]).get_group(\"@FoxNews\")[\"Compound\"],\n",
    "                  facecolors=orgs_colors_dict['@FoxNews'], edgecolors='black', label=\"Fox\")\n",
    "plt.scatter(sentiments_pd.groupby([\"News Org\"]).get_group(\"@NYT\")[\"Tweets Ago\"],\n",
    "                sentiments_pd.groupby([\"News Org\"]).get_group(\"@NYT\")[\"Compound\"],\n",
    "                  facecolors=orgs_colors_dict['@NYT'], edgecolors='black', label=\"New York Times\")\n",
    "\n",
    "# Set textual properties\n",
    "now = datetime.now()\n",
    "now = now.strftime(\"%m/%d/%y\")\n",
    "plt.title(f'Sentiment Analysis of Media Tweets ({now})')\n",
    "plt.xlabel(\"Tweets Ago\")\n",
    "plt.ylabel(\"Tweet Polarity\")\n",
    "\n",
    "# Configure axes\n",
    "plt.xlim(100, 0)\n",
    "plt.ylim(-1.0, 1.0)\n",
    "yticks = [-1.0, -0.5, 0.0, 0.5, 1.0]\n",
    "plt.yticks(yticks)\n",
    "\n",
    "# Add Media Sources to legend and place next to chart\n",
    "#plt.legend(handles=[bbc, cbs, cnn, fox, nyt], title=\"Media Sources\", bbox_to_anchor=(1, 1), frameon=False)\n",
    "plt.legend(title=\"Media Sources\", bbox_to_anchor=(1, 1), frameon=False)\n",
    "\n",
    "# plt.legend(loc=\"upper right\")\n",
    "#plt.legend(handles=[cnn], loc=\"center left\", title=\"Media Sources\", bbox_to_anchor=(1, 0.5))\n",
    "\n",
    "#df.plot().legend(loc='center left', bbox_to_anchor=(1, 0.5))\n",
    "# figtext(.95, .6, \"Note:\\nCircle size correlates with driver count per city.\", rotation='horizontal')\n",
    "\n",
    "plt.show()"
   ]
  },
  {
   "cell_type": "code",
   "execution_count": 35,
   "metadata": {},
   "outputs": [
    {
     "data": {
      "text/plain": [
       "'lightblue'"
      ]
     },
     "execution_count": 35,
     "metadata": {},
     "output_type": "execute_result"
    }
   ],
   "source": [
    "#sentiments_pd.groupby([\"News Org\"]).get_group(\"@BBC\")[\"Compound\"]\n",
    "\n",
    "orgs_colors_dict['@BBC']"
   ]
  },
  {
   "cell_type": "code",
   "execution_count": 20,
   "metadata": {},
   "outputs": [
    {
     "data": {
      "text/html": [
       "<div>\n",
       "<style>\n",
       "    .dataframe thead tr:only-child th {\n",
       "        text-align: right;\n",
       "    }\n",
       "\n",
       "    .dataframe thead th {\n",
       "        text-align: left;\n",
       "    }\n",
       "\n",
       "    .dataframe tbody tr th {\n",
       "        vertical-align: top;\n",
       "    }\n",
       "</style>\n",
       "<table border=\"1\" class=\"dataframe\">\n",
       "  <thead>\n",
       "    <tr style=\"text-align: right;\">\n",
       "      <th></th>\n",
       "      <th>Average Compound Score</th>\n",
       "    </tr>\n",
       "    <tr>\n",
       "      <th>News Org</th>\n",
       "      <th></th>\n",
       "    </tr>\n",
       "  </thead>\n",
       "  <tbody>\n",
       "    <tr>\n",
       "      <th>@BBC</th>\n",
       "      <td>0.199538</td>\n",
       "    </tr>\n",
       "    <tr>\n",
       "      <th>@CBS</th>\n",
       "      <td>0.263535</td>\n",
       "    </tr>\n",
       "    <tr>\n",
       "      <th>@CNN</th>\n",
       "      <td>-0.050615</td>\n",
       "    </tr>\n",
       "    <tr>\n",
       "      <th>@FoxNews</th>\n",
       "      <td>-0.021379</td>\n",
       "    </tr>\n",
       "    <tr>\n",
       "      <th>@NYT</th>\n",
       "      <td>0.031622</td>\n",
       "    </tr>\n",
       "  </tbody>\n",
       "</table>\n",
       "</div>"
      ],
      "text/plain": [
       "          Average Compound Score\n",
       "News Org                        \n",
       "@BBC                    0.199538\n",
       "@CBS                    0.263535\n",
       "@CNN                   -0.050615\n",
       "@FoxNews               -0.021379\n",
       "@NYT                    0.031622"
      ]
     },
     "execution_count": 20,
     "metadata": {},
     "output_type": "execute_result"
    }
   ],
   "source": [
    "average_compound = sentiments_pd.groupby(\"News Org\").mean()[\"Compound\"]\n",
    "\n",
    "compounds_df = pd.DataFrame({\"Average Compound Score\": average_compound})\n",
    "compounds_df"
   ]
  },
  {
   "cell_type": "code",
   "execution_count": 28,
   "metadata": {},
   "outputs": [
    {
     "data": {
      "text/plain": [
       "5"
      ]
     },
     "execution_count": 28,
     "metadata": {},
     "output_type": "execute_result"
    }
   ],
   "source": [
    "#sentiments_pd.nu...\n",
    "\n",
    "# Number of Unique Items\n",
    "#item_count = combined_df[\"Item Name\"].nunique()\n",
    "\n",
    "orgs_count = sentiments_pd[\"News Org\"].nunique()\n",
    "orgs_count"
   ]
  },
  {
   "cell_type": "code",
   "execution_count": 29,
   "metadata": {},
   "outputs": [
    {
     "data": {
      "text/plain": [
       "array(['@BBC', '@CBS', '@CNN', '@FoxNews', '@NYT'], dtype=object)"
      ]
     },
     "execution_count": 29,
     "metadata": {},
     "output_type": "execute_result"
    }
   ],
   "source": [
    "#player_count= len(combined_df[\"SN\"].unique())\n",
    "\n",
    "orgs_names = sentiments_pd[\"News Org\"].unique()\n",
    "orgs_names"
   ]
  },
  {
   "cell_type": "code",
   "execution_count": 31,
   "metadata": {},
   "outputs": [
    {
     "data": {
      "image/png": "[encoded data removed]",
      "text/plain": [
       "<matplotlib.figure.Figure at 0x114019cf8>"
      ]
     },
     "metadata": {},
     "output_type": "display_data"
    }
   ],
   "source": [
    "# Build a bar chart\n",
    "\n",
    "# Set x axis and tick locations\n",
    "# x_axis = np.arange(len(rain_df))\n",
    "# tick_locations = [value+0.4 for value in x_axis]\n",
    "\n",
    "# plt.figure(figsize=(20,3))\n",
    "# plt.bar(x_axis, rain_df[\"Inches\"], color='r', alpha=0.5, align=\"edge\")\n",
    "# plt.xticks(tick_locations, rain_df[\"State\"], rotation=\"vertical\")\n",
    "\n",
    "# Set x axis and tick locations\n",
    "x_axis = np.arange(len(compounds_df))\n",
    "#tick_locations = [value+0.4 for value in x_axis]\n",
    "\n",
    "# Set title and axis labels\n",
    "plt.title(f'Overall Media Sentiment based on Twitter ({now})')\n",
    "plt.xlabel(\"Media Source\")\n",
    "plt.ylabel(\"Tweet Polarity\")\n",
    "\n",
    "# Create bar chart\n",
    "plt.bar(x_axis, compounds_df[\"Average Compound Score\"], color='r', alpha=0.5, align=\"edge\")\n",
    "#plt.xticks(tick_locations, compounds_df.index())\n",
    "\n",
    "plt.show()"
   ]
  },
  {
   "cell_type": "code",
   "execution_count": 30,
   "metadata": {},
   "outputs": [
    {
     "data": {
      "image/png": "[encoded data removed]",
      "text/plain": [
       "<matplotlib.figure.Figure at 0x113c79668>"
      ]
     },
     "metadata": {},
     "output_type": "display_data"
    }
   ],
   "source": [
    "## Try again without a new dataframe\n",
    "### WORKS! Need to add color mapping\n",
    "## CSV and PNG\n",
    "\n",
    "# Set x axis and tick locations\n",
    "x_axis = np.arange(sentiments_pd[\"News Org\"].nunique())\n",
    "tick_locations = [value+0.4 for value in x_axis]\n",
    "\n",
    "# Set title and axis labels\n",
    "plt.title(f'Overall Media Sentiment based on Twitter ({now})')\n",
    "plt.xlabel(\"Media Source\")\n",
    "plt.ylabel(\"Tweet Polarity\")\n",
    "\n",
    "# Create bar chart\n",
    "plt.bar(x_axis, sentiments_pd.groupby(\"News Org\").mean()[\"Compound\"], color='r', alpha=0.5, align=\"edge\")\n",
    "plt.xticks(tick_locations, sentiments_pd[\"News Org\"].unique())\n",
    "\n",
    "plt.show()"
   ]
  },
  {
   "cell_type": "code",
   "execution_count": null,
   "metadata": {
    "collapsed": true
   },
   "outputs": [],
   "source": []
  },
  {
   "cell_type": "code",
   "execution_count": null,
   "metadata": {
    "collapsed": true
   },
   "outputs": [],
   "source": []
  }
 ],
 "metadata": {
  "kernelspec": {
   "display_name": "Python 3",
   "language": "python",
   "name": "python3"
  },
  "language_info": {
   "codemirror_mode": {
    "name": "ipython",
    "version": 3
   },
   "file_extension": ".py",
   "mimetype": "text/x-python",
   "name": "python",
   "nbconvert_exporter": "python",
   "pygments_lexer": "ipython3",
   "version": "3.6.2"
  }
 },
 "nbformat": 4,
 "nbformat_minor": 2
}
